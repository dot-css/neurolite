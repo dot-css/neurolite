{
 "cells": [
  {
   "cell_type": "markdown",
   "metadata": {},
   "source": [
    "# Quick Start Guide\n",
    "\n",
    "Welcome to NeuroLite! This tutorial will get you up and running with your first machine learning model in just 5 minutes.\n",
    "\n",
    "## What is NeuroLite?\n",
    "\n",
    "NeuroLite is an AI/ML/DL/NLP productivity library that enables you to build, train, and deploy machine learning models with minimal code (under 10 lines). It automatically handles:\n",
    "\n",
    "- Data type detection and preprocessing\n",
    "- Model selection and configuration\n",
    "- Training and evaluation\n",
    "- Hyperparameter optimization\n",
    "- Model deployment\n",
    "\n",
    "## Installation\n",
    "\n",
    "First, let's install NeuroLite:"
   ]
  },
  {
   "cell_type": "code",
   "execution_count": null,
   "metadata": {},
   "outputs": [],
   "source": [
    "# Install NeuroLite (uncomment if not already installed)\n",
    "# !pip install neurolite"
   ]
  },
  {
   "cell_type": "markdown",
   "metadata": {},
   "source": [
    "## Your First Model\n",
    "\n",
    "Let's start with a simple example using the famous Iris dataset for classification:"
   ]
  },
  {
   "cell_type": "code",
   "execution_count": null,
   "metadata": {},
   "outputs": [],
   "source": [
    "import neurolite\n",
    "import pandas as pd\n",
    "from sklearn.datasets import load_iris\n",
    "\n",
    "# Load the Iris dataset\n",
    "iris = load_iris()\n",
    "df = pd.DataFrame(iris.data, columns=iris.feature_names)\n",
    "df['species'] = iris.target\n",
    "\n",
    "# Save to CSV for NeuroLite\n",
    "df.to_csv('iris.csv', index=False)\n",
    "\n",
    "print(\"Dataset shape:\", df.shape)\n",
    "print(\"\\nFirst few rows:\")\n",
    "print(df.head())"
   ]
  },
  {
   "cell_type": "markdown",
   "metadata": {},
   "source": [
    "Now, let's train a model with just one line of code:"
   ]
  },
  {
   "cell_type": "code",
   "execution_count": null,
   "metadata": {},
   "outputs": [],
   "source": [
    "# Train a model with automatic everything!\n",
    "model = neurolite.train(\n",
    "    data='iris.csv',\n",
    "    target='species',\n",
    "    task='classification'\n",
    ")\n",
    "\n",
    "print(\"Model trained successfully!\")\n",
    "print(f\"Model type: {type(model.model).__name__}\")\n",
    "print(f\"Training accuracy: {model.evaluation_results.metrics.get('accuracy', 'N/A'):.4f}\")"
   ]
  },
  {
   "cell_type": "markdown",
   "metadata": {},
   "source": [
    "## Making Predictions\n",
    "\n",
    "Now let's use our trained model to make predictions:"
   ]
  },
  {
   "cell_type": "code",
   "execution_count": null,
   "metadata": {},
   "outputs": [],
   "source": [
    "# Create some sample data for prediction\n",
    "import numpy as np\n",
    "\n",
    "sample_data = np.array([\n",
    "    [5.1, 3.5, 1.4, 0.2],  # Should be setosa (0)\n",
    "    [6.2, 2.8, 4.8, 1.8],  # Should be virginica (2)\n",
    "    [5.7, 2.8, 4.1, 1.3]   # Should be versicolor (1)\n",
    "])\n",
    "\n",
    "# Make predictions\n",
    "predictions = model.predict(sample_data)\n",
    "\n",
    "# Map predictions to species names\n",
    "species_names = ['setosa', 'versicolor', 'virginica']\n",
    "predicted_species = [species_names[pred] for pred in predictions]\n",
    "\n",
    "print(\"Predictions:\")\n",
    "for i, (data_point, prediction) in enumerate(zip(sample_data, predicted_species)):\n",
    "    print(f\"Sample {i+1}: {data_point} -> {prediction}\")"
   ]
  },
  {
   "cell_type": "markdown",
   "metadata": {},
   "source": [
    "## Model Evaluation\n",
    "\n",
    "Let's look at the detailed evaluation results:"
   ]
  },
  {
   "cell_type": "code",
   "execution_count": null,
   "metadata": {},
   "outputs": [],
   "source": [
    "# Print evaluation metrics\n",
    "print(\"Evaluation Results:\")\n",
    "print(\"==================\")\n",
    "\n",
    "for metric, value in model.evaluation_results.metrics.items():\n",
    "    if isinstance(value, float):\n",
    "        print(f\"{metric.capitalize()}: {value:.4f}\")\n",
    "    else:\n",
    "        print(f\"{metric.capitalize()}: {value}\")\n",
    "\n",
    "# Show confusion matrix if available\n",
    "if hasattr(model.evaluation_results, 'confusion_matrix') and model.evaluation_results.confusion_matrix is not None:\n",
    "    print(\"\\nConfusion Matrix:\")\n",
    "    print(model.evaluation_results.confusion_matrix)"
   ]
  },
  {
   "cell_type": "markdown",
   "metadata": {},
   "source": [
    "## Deploy Your Model\n",
    "\n",
    "Finally, let's deploy our model as a REST API:"
   ]
  },
  {
   "cell_type": "code",
   "execution_count": null,
   "metadata": {},
   "outputs": [],
   "source": [
    "# Deploy the model as an API (this will start a server)\n",
    "# Note: In a Jupyter notebook, this will block the cell\n",
    "# In production, you'd run this in a separate process\n",
    "\n",
    "print(\"Deploying model as REST API...\")\n",
    "print(\"Note: This would start a server at http://localhost:8000\")\n",
    "print(\"In a real deployment, uncomment the line below:\")\n",
    "print(\"# api_server = neurolite.deploy(model, format='api', port=8000)\")\n",
    "\n",
    "# For demonstration, let's export to ONNX instead\n",
    "try:\n",
    "    exported_model = neurolite.deploy(model, format='onnx')\n",
    "    print(\"Model exported to ONNX format successfully!\")\n",
    "except Exception as e:\n",
    "    print(f\"Export not available in this environment: {e}\")"
   ]
  },
  {
   "cell_type": "markdown",
   "metadata": {},
   "source": [
    "## What Just Happened?\n",
    "\n",
    "In just a few lines of code, NeuroLite automatically:\n",
    "\n",
    "1. **Detected the data type** (tabular CSV file)\n",
    "2. **Loaded and validated** the data\n",
    "3. **Preprocessed** the features (scaling, encoding)\n",
    "4. **Split** the data into train/validation/test sets\n",
    "5. **Selected an appropriate model** (Random Forest for tabular classification)\n",
    "6. **Trained** the model with optimal hyperparameters\n",
    "7. **Evaluated** the model with appropriate metrics\n",
    "8. **Prepared** the model for deployment\n",
    "\n",
    "## Next Steps\n",
    "\n",
    "Now that you've seen the basics, explore more advanced features:\n",
    "\n",
    "- [Computer Vision Tutorial](computer_vision/01_image_classification.ipynb) - Work with images\n",
    "- [NLP Tutorial](nlp/01_text_classification.ipynb) - Process text data\n",
    "- [Hyperparameter Optimization](advanced/01_hyperparameter_optimization.ipynb) - Optimize performance\n",
    "- [Model Deployment](advanced/02_deployment.ipynb) - Deploy to production\n",
    "\n",
    "## Key Takeaways\n",
    "\n",
    "- NeuroLite makes ML accessible with minimal code\n",
    "- Automatic data processing and model selection\n",
    "- Built-in best practices for training and evaluation\n",
    "- Easy deployment options\n",
    "- Extensible with custom models and preprocessing\n",
    "\n",
    "Happy modeling with NeuroLite! 🚀"
   ]
  }
 ],
 "metadata": {
  "kernelspec": {
   "display_name": "Python 3",
   "language": "python",
   "name": "python3"
  },
  "language_info": {
   "codemirror_mode": {
    "name": "ipython",
    "version": 3
   },
   "file_extension": ".py",
   "mimetype": "text/x-python",
   "name": "python",
   "nbconvert_exporter": "python",
   "pygments_lexer": "ipython3",
   "version": "3.8.0"
  }
 },
 "nbformat": 4,
 "nbformat_minor": 4
}